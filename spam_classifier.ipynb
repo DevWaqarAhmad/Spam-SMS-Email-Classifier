{
 "cells": [
  {
   "cell_type": "code",
   "execution_count": 11,
   "id": "c9e2f8f2",
   "metadata": {},
   "outputs": [
    {
     "name": "stdout",
     "output_type": "stream",
     "text": [
      "Index(['label', 'text'], dtype='object')\n",
      "label\n",
      "0    4825\n",
      "1     767\n",
      "Name: count, dtype: int64\n",
      "label\n",
      "0    4825\n",
      "1    4825\n",
      "Name: count, dtype: int64\n",
      "Index(['label', 'text'], dtype='object')\n"
     ]
    }
   ],
   "source": [
    "import pandas as pd\n",
    "from sklearn.utils import resample\n",
    "\n",
    "df = pd.read_csv('data/spam.csv', encoding='latin-1')\n",
    "df = df.rename(columns={'v1': 'label', 'v2': 'text'})\n",
    "df = df[['label', 'text']]  \n",
    "\n",
    "df['label'] = df['label'].map({'ham': 0, 'spam': 1})\n",
    "\n",
    "print(df.columns)\n",
    "print(df['label'].value_counts())\n",
    "\n",
    "df_ham = df[df['label'] == 0]\n",
    "df_spam = df[df['label'] == 1]\n",
    "\n",
    "df_spam_upsampled = resample(df_spam,\n",
    "                             replace=True,\n",
    "                             n_samples=len(df_ham),\n",
    "                             random_state=42)\n",
    "\n",
    "df_balanced = pd.concat([df_ham, df_spam_upsampled])\n",
    "print(df_balanced['label'].value_counts())\n",
    "print(df_balanced.columns)\n"
   ]
  },
  {
   "cell_type": "code",
   "execution_count": null,
   "id": "4cc60288",
   "metadata": {},
   "outputs": [
    {
     "name": "stderr",
     "output_type": "stream",
     "text": [
      "[nltk_data] Downloading package stopwords to\n",
      "[nltk_data]     C:\\Users\\dell\\AppData\\Roaming\\nltk_data...\n",
      "[nltk_data]   Package stopwords is already up-to-date!\n"
     ]
    },
    {
     "name": "stdout",
     "output_type": "stream",
     "text": [
      "Index(['label', 'text', 'cleaned_text'], dtype='object')\n",
      "                                                text  \\\n",
      "0  Go until jurong point, crazy.. Available only ...   \n",
      "1                      Ok lar... Joking wif u oni...   \n",
      "3  U dun say so early hor... U c already then say...   \n",
      "\n",
      "                                        cleaned_text  \n",
      "0  go jurong point crazi avail bugi n great world...  \n",
      "1                              ok lar joke wif u oni  \n",
      "3                u dun say earli hor u c alreadi say  \n"
     ]
    }
   ],
   "source": [
    "import re\n",
    "import nltk\n",
    "from nltk.corpus import stopwords\n",
    "from nltk.stem.porter import PorterStemmer\n",
    "\n",
    "nltk.download('stopwords')\n",
    "\n",
    "ps = PorterStemmer()\n",
    "stop_words = set(stopwords.words('english'))\n",
    "\n",
    "def clean_text(text):\n",
    "    text = text.lower()\n",
    "    text = re.sub('[^a-zA-Z]', ' ', text) \n",
    "    words = text.split()\n",
    "    filtered_words = [ps.stem(word) for word in words if word not in stop_words]\n",
    "    return ' '.join(filtered_words)\n",
    "\n",
    "df_balanced['cleaned_text'] = df_balanced['text'].apply(clean_text)\n",
    "\n",
    "print(df_balanced.columns)\n",
    "print(df_balanced[['text', 'cleaned_text']].head(3))\n"
   ]
  },
  {
   "cell_type": "code",
   "execution_count": 14,
   "id": "41abfc67",
   "metadata": {},
   "outputs": [
    {
     "name": "stdout",
     "output_type": "stream",
     "text": [
      "Accuracy: 0.989119170984456\n",
      "Confusion Matrix:\n",
      " [[976   9]\n",
      " [ 12 933]]\n",
      "Classification Report:\n",
      "               precision    recall  f1-score   support\n",
      "\n",
      "           0       0.99      0.99      0.99       985\n",
      "           1       0.99      0.99      0.99       945\n",
      "\n",
      "    accuracy                           0.99      1930\n",
      "   macro avg       0.99      0.99      0.99      1930\n",
      "weighted avg       0.99      0.99      0.99      1930\n",
      "\n"
     ]
    }
   ],
   "source": [
    "from sklearn.feature_extraction.text import TfidfVectorizer\n",
    "from sklearn.model_selection import train_test_split\n",
    "from sklearn.linear_model import LogisticRegression\n",
    "from sklearn.metrics import accuracy_score, confusion_matrix, classification_report\n",
    "\n",
    "tfidf = TfidfVectorizer(max_features=5000)\n",
    "X = tfidf.fit_transform(df_balanced['cleaned_text']).toarray()\n",
    "y = df_balanced['label']\n",
    "\n",
    "\n",
    "X_train, X_test, y_train, y_test = train_test_split(X, y, test_size=0.2, random_state=42)\n",
    "\n",
    "model = LogisticRegression(max_iter=1000)\n",
    "model.fit(X_train, y_train)\n",
    "\n",
    "y_pred = model.predict(X_test)\n",
    "\n",
    "print(\"Accuracy:\", accuracy_score(y_test, y_pred))\n",
    "print(\"Confusion Matrix:\\n\", confusion_matrix(y_test, y_pred))\n",
    "print(\"Classification Report:\\n\", classification_report(y_test, y_pred))\n"
   ]
  },
  {
   "cell_type": "code",
   "execution_count": 15,
   "id": "2d487b53",
   "metadata": {},
   "outputs": [],
   "source": [
    "import pickle\n",
    "\n",
    "with open('pkl/vectorizer.pkl', 'wb') as f:\n",
    "    pickle.dump(tfidf, f)\n",
    "\n",
    "with open('pkl/model.pkl', 'wb') as f:\n",
    "    pickle.dump(model, f)\n"
   ]
  },
  {
   "cell_type": "code",
   "execution_count": null,
   "id": "ebe23498",
   "metadata": {},
   "outputs": [],
   "source": []
  }
 ],
 "metadata": {
  "kernelspec": {
   "display_name": "env",
   "language": "python",
   "name": "python3"
  },
  "language_info": {
   "codemirror_mode": {
    "name": "ipython",
    "version": 3
   },
   "file_extension": ".py",
   "mimetype": "text/x-python",
   "name": "python",
   "nbconvert_exporter": "python",
   "pygments_lexer": "ipython3",
   "version": "3.10.0"
  }
 },
 "nbformat": 4,
 "nbformat_minor": 5
}
